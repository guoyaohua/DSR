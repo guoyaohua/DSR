{
 "cells": [
  {
   "cell_type": "code",
   "execution_count": 1,
   "metadata": {
    "collapsed": true
   },
   "outputs": [],
   "source": [
    "import numpy as np\n",
    "import sklearn \n",
    "import math\n",
    "import os\n",
    "import matplotlib\n",
    "import matplotlib.pyplot as plt\n",
    "from scipy import signal\n",
    "from scipy import interpolate\n",
    "\n",
    "'''加载文件'''\n",
    "def loadData(filePath):\n",
    "    file = open(filePath,'rb')\n",
    "    data = file.read()\n",
    "    file.close()\n",
    "    return data\n",
    "\n",
    "'''得到所有文件名'''\n",
    "def getFileList(rootPath):\n",
    "    fileList_temp = []\n",
    "    for root, dirs, files in os.walk(rootPath):\n",
    "        fileList_temp.append(files)\n",
    "    fileList = []\n",
    "    for filter in fileList_temp[0]:\n",
    "        if filter.split('.')[1] == 'txt':\n",
    "            fileList.append(rootPath+'/'+filter)\n",
    "    return fileList\n",
    "\n",
    "'''把得到的加速度,角速度,标签，写入到文件中'''\n",
    "def write2file(X,Y,X_path,Y_path):\n",
    "    np.savetxt(X_path,X,delimiter=',')\n",
    "    np.savetxt(Y_path,Y,delimiter=',')\n",
    "    \n",
    "    \n",
    "'''从文件中获取加速度和角速度'''\n",
    "def getAandG(data):\n",
    "    data_len = len(data)\n",
    "    a = [[] for i in range(3)]  # 加速度\n",
    "    w = [[] for i in range(3)]  # 角速度\n",
    "    index = 0\n",
    "    while index < data_len:  \n",
    "        if data[index] == 0x55:  # 包头\n",
    "#             print(\"包头\")\n",
    "            if index + 7 < data_len:\n",
    "                temp_a = data[index+3]\n",
    "                temp_b = data[index+5]\n",
    "                temp_c = data[index+7]\n",
    "                if data[index+3] > 127:  # 说明是负数\n",
    "                    temp_a = temp_a - 256\n",
    "                if data[index+5] >127:\n",
    "                    temp_b = temp_b - 256\n",
    "                if data[index+7] >127:\n",
    "                    temp_c = temp_c - 256\n",
    "                if data[index+1] == 81: # 加速度输出\n",
    "                    a[0].append(temp_a*256+data[index+2]) # x轴加速度\n",
    "                    a[1].append(temp_b*256+data[index+4]) # y轴加速度\n",
    "                    a[2].append(temp_c*256+data[index+6]) # z轴加速度\n",
    "#                     print(\"a[x]=%d,a[y]=%d,a[z]=%d\"%(a[0][-1],a[1][-1],a[2][-1]))\n",
    "                    index += 11\n",
    "                    continue\n",
    "                elif data[index+1] == 82: # 角速度输出\n",
    "                    w[0].append(temp_a*256+data[index+2]) # x轴角速度\n",
    "                    w[1].append(temp_b*256+data[index+4]) # y轴角速度\n",
    "                    w[2].append(temp_c*256+data[index+6]) # z轴角速度\n",
    "#                     print(\"w[x]=%d,w[y]=%d,w[z]=%d\"%(w[0][-1],w[1][-1],w[2][-1]))\n",
    "                    index += 11\n",
    "                    continue\n",
    "                elif data[index+1] == 83: # 角度输出\n",
    "                    index += 11\n",
    "                else:  # 或者数据有丢失\n",
    "                    index += 1\n",
    "            else:  # 没有完整的数据了\n",
    "                break\n",
    "        else:  # 数据有丢失\n",
    "            index += 1\n",
    "    a = np.array(a)\n",
    "    w = np.array(w)\n",
    "    a = a / 32768 * 16    #单位为g\n",
    "    w = w / 32768 * 2000  # 单位为°/s\n",
    "    #print(a.shape+w.shape)\n",
    "    return a,w\n",
    "\n",
    "'''从文件中获取标签'''\n",
    "def getLabel(data):\n",
    "   \n",
    "    return a,w\n",
    "\n",
    "'''获取指定目录下的原始数据，将转换后的数据合并成一个张量\n",
    "   rootPath为目标路径，start-起始文件，end-截至文件\n",
    "'''\n",
    "def convertData(fileList,start=-1,end=-1):\n",
    "    acc = np.empty((3,0))#创建一个空数组，用于存放加速度的集合\n",
    "    rad = np.empty((3,0))\n",
    "    if(end>start&start>0):\n",
    "        targetFiles = fileList[start:end]\n",
    "    else:\n",
    "        targetFiles=fileList\n",
    "        \n",
    "    for filePath in targetFiles:\n",
    "        #filePath = rootPath+'/'+file\n",
    "        data = loadData(filePath)\n",
    "        a,w = getAandG(data)\n",
    "        len_diff = len(a[1])-len(w[1])\n",
    "        if len_diff !=0:#数据对齐\n",
    "            if len_diff>0:#加速度数据长\n",
    "                w = np.hstack((w,np.zeros((3,len_diff))))\n",
    "            elif len_diff<0:#角速度数据长\n",
    "                a = np.hstack((a,np.zeros((3,-len_diff))))   \n",
    "#         print(len(a[1])==len(w[1]))#判断是否对齐\n",
    "# 将数据前后100各采样点换成0 ，消除上电断电对数据的影响\n",
    "        a,w = cutSEpoint(a,w)\n",
    "        #print(acc.shape+rad.shape)\n",
    "        acc = np.hstack((acc,a))\n",
    "        rad = np.hstack((rad,w))\n",
    "    print(acc.shape+rad.shape)\n",
    "    return acc,rad\n",
    "\n",
    "'''将数据前后100各采样点换成0 ，消除上电断电对数据的影响'''\n",
    "def cutSEpoint(acc,rad,lenth=100):\n",
    "    for i in range(lenth):\n",
    "        acc[0][i]=0\n",
    "        acc[1][i]=0\n",
    "        acc[2][i]=0\n",
    "        rad[0][i]=0\n",
    "        rad[1][i]=0\n",
    "        rad[2][i]=0\n",
    "        acc[0][-i]=0\n",
    "        acc[1][-i]=0\n",
    "        acc[2][-i]=0\n",
    "        rad[0][-i]=0\n",
    "        rad[1][-i]=0\n",
    "        rad[2][-i]=0\n",
    "    return acc,rad\n",
    "\n",
    "'''三轴数据画图'''\n",
    "def showPic(data):\n",
    "    plt.figure(figsize=(20,15))\n",
    "    plt.plot(range(0,len(data[0])),data[0],'r',range(0,len(data[1])),data[1],'g',range(0,len(data[2])),data[2],'b')\n",
    "    label=[\"X\",\"Y\",\"Z\"]\n",
    "    plt.legend(label,loc=0,ncol=2)\n",
    "#     plt.savefig(\"三轴数据滤波&切割后波形\",dpi=600)\n",
    "    plt.show()\n",
    "\n",
    "'''过低通滤波'''\n",
    "def smoothing(data,n=3,wn=0.02):\n",
    "    b,a = signal.butter(n,wn,'low')  \n",
    "    sf = signal.filtfilt(b,a,data)\n",
    "    return sf\n",
    "\n",
    "'''分割算法——acc,rad为待分隔数据，windowlen为窗口大小，strides为单步滑动大小，\n",
    "threshold1为用于定义切断信号状态的阈值,threshold2用于定义窗口内有多少个1时判断为1'''\n",
    "def getSegFun(acc,rad,windowlen=100,strides=100,threshold1=6,threshold2=50):\n",
    "    #用于保存各动作起点终点位置\n",
    "    start_point =[]\n",
    "    end_point = []\n",
    "    pointSignal = np.arange(len(rad[1]))#声明一个切断信号,因为六轴数据已经对齐，数据长度相同，所以统一用rad[1]的长度代表整体长度\n",
    "    for i in range(len(rad[1])):\n",
    "        tmp= abs(rad[0][i])+abs(rad[1][i])+abs(rad[2][i])#只是其中一种方法\n",
    "       # tmp= math.sqrt(abs(rad[0][i])**2+abs(rad[1][i])**2+abs(rad[2][i])**2)#只是其中一种方法\n",
    "        if(tmp>threshold1):\n",
    "            pointSignal[i]=1\n",
    "        else:\n",
    "            pointSignal[i]=0\n",
    "    state = 0\n",
    "    window = np.arange(windowlen)\n",
    "    for i in range(0,len(pointSignal),strides):\n",
    "        if(i+strides<len(pointSignal)):\n",
    "            window = pointSignal[i:i+strides]\n",
    "            if(np.sum(window)>threshold2):\n",
    "                pointSignal[i:i+strides]=1\n",
    "                if(state==0):#状态转换时，留出一小段保留数据。\n",
    "                    pointSignal[i-100:i]=1\n",
    "                state = 1\n",
    "            else:\n",
    "                pointSignal[i:i+strides]=0\n",
    "                if(state==1):#状态转换时，留出一小段保留数据。\n",
    "                    pointSignal[i:i+100]=1\n",
    "                state = 0\n",
    "        else:\n",
    "            window = pointSignal[i:]\n",
    "            if(np.sum(window)>threshold2):\n",
    "                pointSignal[i:]=1\n",
    "            else:\n",
    "                pointSignal[i:]=0\n",
    "    return pointSignal\n",
    "\n",
    "'''获取切割端点'''\n",
    "def getEndPoint(pointSignal):  \n",
    "    # 用于保存各动作起点终点位置\n",
    "    start_point =[]\n",
    "    end_point = []\n",
    "    # 状态位\n",
    "    state = 0\n",
    "    for i in range(len(pointSignal)):\n",
    "        if(state == 0 and pointSignal[i] == 1):\n",
    "            start_point.append(i)\n",
    "            state = 1\n",
    "        elif(state == 1 and pointSignal[i] == 0):\n",
    "            end_point.append(i)\n",
    "            state = 0\n",
    "    #print(\"切割段数：%d\"%len(end_point))\n",
    "    #print(len(start_point))\n",
    "    return start_point,end_point\n",
    "\n",
    "'''切割方法，超参调优函数'''\n",
    "def segFunhyper():\n",
    "    windowlen = []\n",
    "    threshold1 = []\n",
    "    threshold2 = []\n",
    "    max_lenth =[]\n",
    "    pointSignal = []\n",
    "    for w in range(50,100):\n",
    "        for t1 in range(2,10):\n",
    "            for t2 in range(10,100): \n",
    "                p = getSegFun(s_acc,s_rad,windowlen=w,strides=100,threshold1=t1,threshold2=t2)\n",
    "                pointSignal.append(p)\n",
    "                start_point,end_point = getEndPoint(p)\n",
    "                if(len(start_point)==107): \n",
    "                    '''3.切分数据'''\n",
    "                    #输出最大长度\n",
    "                    lenth = 0 \n",
    "                    for i in range(len(end_point)):\n",
    "                        if(lenth < end_point[i]- start_point[i]):\n",
    "                            lenth = end_point[i]- start_point[i]\n",
    "                    max_lenth.append(lenth)\n",
    "                    print(\"window:%d  t1:%d  t2:%d  最大长度：%d\"%(w,t1,t2,lenth))\n",
    "                    windowlen.append(w)\n",
    "                    threshold1.append(t1)\n",
    "                    threshold2.append(t2)\n",
    "    #写入文件                \n",
    "    file = open('max_lenth.txt','w+')\n",
    "    file.write(str(max_lenth))\n",
    "    file.close()\n",
    "    file = open('windowlen.txt','w+')\n",
    "    file.write(str(windowlen))\n",
    "    file.close()\n",
    "    file = open('threshold1.txt','w+')\n",
    "    file.write(str(threshold1))\n",
    "    file.close()\n",
    "    file = open('threshold2.txt','w+')\n",
    "    file.write(str(threshold2))\n",
    "    file.close()\n",
    "    file = open('pointSignal.txt','w+')\n",
    "    file.write(str(pointSignal))\n",
    "    file.close()\n",
    "\n",
    "'''三轴数据画图'''\n",
    "def showPic(data,title=\"三轴数据画图\"):\n",
    "    plt.figure(figsize=(20,15))\n",
    "    plt.plot(range(0,len(data[0])),data[0],'r',range(0,len(data[1])),data[1],'g',range(0,len(data[2])),data[2],'b')\n",
    "    label=[\"X\",\"Y\",\"Z\"]\n",
    "    plt.legend(label,loc=0,ncol=2)\n",
    "    plt.title(title)\n",
    "#     plt.savefig(\"三轴数据滤波&切割后波形\",dpi=600)\n",
    "    plt.show()"
   ]
  },
  {
   "cell_type": "code",
   "execution_count": 2,
   "metadata": {
    "scrolled": false
   },
   "outputs": [
    {
     "name": "stdout",
     "output_type": "stream",
     "text": [
      "样本个数：107\n"
     ]
    }
   ],
   "source": [
    "#加载数据\n",
    "fileList = getFileList(\"E:/Car data/data/11.6/X\")\n",
    "fileList +=getFileList(\"E:/Car data/data/11.15/X\")\n",
    "fileList +=getFileList(\"E:/Car data/data/11.25/X\")\n",
    "fileList +=getFileList(\"E:/Car data/data/12.3/X\")\n",
    "print(\"样本个数：%d\"%len(fileList))\n",
    "#showPic(acc)\n",
    "#np.loadtxt(\"E:/Car data/data/11.25/Y/label.txt\").astype(np.int).reshape(-1,1)"
   ]
  },
  {
   "cell_type": "code",
   "execution_count": 3,
   "metadata": {},
   "outputs": [
    {
     "name": "stdout",
     "output_type": "stream",
     "text": [
      "(3, 182158, 3, 182158)\n",
      "(107, 6, 3000)\n"
     ]
    }
   ],
   "source": [
    "#数据预处理\n",
    "acc,rad = convertData(fileList)\n",
    "'''1.过低通滤波器'''\n",
    "s_acc = smoothing(acc,n=3,wn=0.02)\n",
    "s_rad = smoothing(rad,n=3,wn=0.02)\n",
    "'''2.根据平滑后的数据进行切断，并获取端点'''\n",
    "#pointSignal = getSegFun(s_acc,s_rad,windowlen=100,strides=100,threshold1=3,threshold2=57)\n",
    "# 优化超参后的切断\n",
    "pointSignal = getSegFun(s_acc,s_rad,windowlen=60,strides=100,threshold1=4,threshold2=58)\n",
    "start_point,end_point = getEndPoint(pointSignal)\n",
    "'''3.切分数据'''\n",
    "X = np.empty((107,6,3000))\n",
    "Y = np.array((107,1))\n",
    "#输出最大长度，最大长度 3000\n",
    "'''4.数据对齐、合并'''\n",
    "for i in range(len(end_point)):\n",
    "    acc_tem = np.array(s_acc[:,start_point[i]:end_point[i]])\n",
    "    rad_tem = np.array(s_rad[:,start_point[i]:end_point[i]])\n",
    "    #print(acc_tem.shape)\n",
    "    new_index = np.arange(3000)\n",
    "    raw_index = np.linspace(0,3000,acc_tem[0].size)\n",
    "    #print(raw_index)\n",
    "    f_a1 = interpolate.interp1d(raw_index, acc_tem[0], kind='cubic')\n",
    "    f_a2 = interpolate.interp1d(raw_index, acc_tem[1], kind='cubic')\n",
    "    f_a3 = interpolate.interp1d(raw_index, acc_tem[2], kind='cubic')\n",
    "    f_r1 = interpolate.interp1d(raw_index, rad_tem[0], kind='cubic')\n",
    "    f_r2 = interpolate.interp1d(raw_index, rad_tem[1], kind='cubic')\n",
    "    f_r3 = interpolate.interp1d(raw_index, rad_tem[2], kind='cubic')\n",
    "    \n",
    "    X[i][0] = f_a1(new_index)\n",
    "    X[i][1] = f_a2(new_index)\n",
    "    X[i][2] = f_a3(new_index)\n",
    "    X[i][3] = f_r1(new_index)\n",
    "    X[i][4] = f_r2(new_index)\n",
    "    X[i][5] = f_r3(new_index)\n",
    "print(X.shape)\n",
    "np.save(\"E:/Car data/data/all/X\", X)"
   ]
  },
  {
   "cell_type": "code",
   "execution_count": 4,
   "metadata": {},
   "outputs": [
    {
     "name": "stdout",
     "output_type": "stream",
     "text": [
      "标签数据：107\n"
     ]
    }
   ],
   "source": [
    "'''5.获取标签数据'''\n",
    "#加载数据\n",
    "fileList = [\"E:/Car data/data/11.6/Y/Label.txt\",\"E:/Car data/data/11.15/Y/Label.txt\",\"E:/Car data/data/11.25/Y/Label.txt\",\"E:/Car data/data/12.3/Y/Label.txt\"]\n",
    "for i,file in enumerate(fileList):\n",
    "    if(i==0):\n",
    "        y_tem = np.loadtxt(file,delimiter='\\r\\n',dtype=np.int).reshape(-1,1)\n",
    "    else:\n",
    "        y_tem = np.concatenate((y_tem,np.loadtxt(file,delimiter='\\r\\n',dtype=np.int).reshape(-1,1)),axis = 0)\n",
    "Y = y_tem\n",
    "print(\"标签数据：%d\" % (Y.shape[0]))\n",
    "np.save(\"E:/Car data/data/all/Y\", Y)"
   ]
  },
  {
   "cell_type": "code",
   "execution_count": 5,
   "metadata": {
    "scrolled": false
   },
   "outputs": [
    {
     "name": "stdout",
     "output_type": "stream",
     "text": [
      "训练样本大小：85\n",
      "(85, 6, 3000)\n",
      "测试集大小：22\n",
      "(22, 6, 3000)\n"
     ]
    },
    {
     "name": "stderr",
     "output_type": "stream",
     "text": [
      "C:\\Anaconda2\\envs\\tensorflow\\lib\\site-packages\\sklearn\\cross_validation.py:41: DeprecationWarning: This module was deprecated in version 0.18 in favor of the model_selection module into which all the refactored classes and functions are moved. Also note that the interface of the new CV iterators are different from that of this module. This module will be removed in 0.20.\n",
      "  \"This module will be removed in 0.20.\", DeprecationWarning)\n"
     ]
    }
   ],
   "source": [
    "'''6.拆分训练集、测试集'''\n",
    "from sklearn.cross_validation import train_test_split  \n",
    "X_train , X_test , y_train , y_test = train_test_split(X,Y,test_size=0.2, random_state=0)\n",
    "print(\"训练样本大小：%d\" % X_train.shape[0])\n",
    "print(X_train.shape)\n",
    "print(\"测试集大小：%d\" % X_test.shape[0])\n",
    "print(X_test.shape)"
   ]
  },
  {
   "cell_type": "code",
   "execution_count": 8,
   "metadata": {},
   "outputs": [
    {
     "data": {
      "image/png": "[encoded data removed]",
      "text/plain": [
       "<matplotlib.figure.Figure at 0x20f4ac03cc0>"
      ]
     },
     "metadata": {},
     "output_type": "display_data"
    }
   ],
   "source": [
    "'''7.数据处理--标准化'''\n",
    "X_train_shift = X_train.reshape(X_train.shape[0],-1)\n",
    "X_test_shift = X_test.reshape(X_test.shape[0],-1)\n",
    "scaler = sklearn.preprocessing.StandardScaler().fit(X_train_shift)\n",
    "scaler.transform(X_train_shift)\n",
    "scaler.transform(X_test_shift)\n",
    "\n",
    "'''数据画图'''\n",
    "plt.figure(figsize=(20,15))\n",
    "plt.plot(range(0,len(X_train_shift[1])),X_train_shift[1])\n",
    "plt.show()\n",
    "    \n",
    "# showPic(X_train[4,0:3,:],)"
   ]
  },
  {
   "cell_type": "code",
   "execution_count": 10,
   "metadata": {},
   "outputs": [
    {
     "name": "stdout",
     "output_type": "stream",
     "text": [
      "             precision    recall  f1-score   support\n",
      "\n",
      "          1       0.00      0.00      0.00         5\n",
      "          2       0.50      1.00      0.67         3\n",
      "          3       0.00      0.00      0.00         3\n",
      "          4       0.40      0.50      0.44         4\n",
      "          5       0.67      0.57      0.62         7\n",
      "\n",
      "avg / total       0.35      0.41      0.37        22\n",
      "\n"
     ]
    },
    {
     "name": "stderr",
     "output_type": "stream",
     "text": [
      "C:\\Anaconda2\\envs\\tensorflow\\lib\\site-packages\\ipykernel_launcher.py:7: DataConversionWarning: A column-vector y was passed when a 1d array was expected. Please change the shape of y to (n_samples, ), for example using ravel().\n",
      "  import sys\n"
     ]
    }
   ],
   "source": [
    "\n",
    "# X_train , X_test , y_train , y_test\n",
    "'''knn:'''\n",
    "from sklearn.neighbors import KNeighborsClassifier\n",
    "from sklearn.metrics import classification_report\n",
    "knn = KNeighborsClassifier()\n",
    "knn.fit(X_train_shift, y_train)\n",
    "knn_labels = knn.predict(X_test_shift)\n",
    "print(classification_report(y_test, knn_labels))"
   ]
  },
  {
   "cell_type": "code",
   "execution_count": 14,
   "metadata": {},
   "outputs": [
    {
     "name": "stdout",
     "output_type": "stream",
     "text": [
      "             precision    recall  f1-score   support\n",
      "\n",
      "          1       0.33      0.20      0.25         5\n",
      "          2       0.33      0.33      0.33         3\n",
      "          3       0.20      0.33      0.25         3\n",
      "          4       0.40      0.50      0.44         4\n",
      "          5       0.67      0.57      0.62         7\n",
      "\n",
      "avg / total       0.43      0.41      0.41        22\n",
      "\n"
     ]
    }
   ],
   "source": [
    "\n",
    "'''DesicisionTree:'''\n",
    "from sklearn.tree import DecisionTreeClassifier\n",
    "from sklearn.metrics import classification_report\n",
    "from sklearn.cross_validation import cross_val_score\n",
    "\n",
    "dt = DecisionTreeClassifier()\n",
    "#cross_val_score(dt, X_train_shift, y_train, cv =10)\n",
    "dt.fit(X_train_shift, y_train)\n",
    "dt_labels = dt.predict(X_test_shift)\n",
    "print(classification_report(y_test, dt_labels))"
   ]
  },
  {
   "cell_type": "code",
   "execution_count": 12,
   "metadata": {},
   "outputs": [
    {
     "name": "stdout",
     "output_type": "stream",
     "text": [
      "             precision    recall  f1-score   support\n",
      "\n",
      "          1       0.00      0.00      0.00         5\n",
      "          2       0.29      0.67      0.40         3\n",
      "          3       0.00      0.00      0.00         3\n",
      "          4       0.40      0.50      0.44         4\n",
      "          5       0.57      0.57      0.57         7\n",
      "\n",
      "avg / total       0.29      0.36      0.32        22\n",
      "\n"
     ]
    },
    {
     "name": "stderr",
     "output_type": "stream",
     "text": [
      "C:\\Anaconda2\\envs\\tensorflow\\lib\\site-packages\\sklearn\\utils\\validation.py:547: DataConversionWarning: A column-vector y was passed when a 1d array was expected. Please change the shape of y to (n_samples, ), for example using ravel().\n",
      "  y = column_or_1d(y, warn=True)\n",
      "C:\\Anaconda2\\envs\\tensorflow\\lib\\site-packages\\sklearn\\metrics\\classification.py:1135: UndefinedMetricWarning: Precision and F-score are ill-defined and being set to 0.0 in labels with no predicted samples.\n",
      "  'precision', 'predicted', average, warn_for)\n"
     ]
    }
   ],
   "source": [
    "'''Naive Bayes:'''\n",
    "from sklearn.naive_bayes import GaussianNB\n",
    "from sklearn.metrics import classification_report\n",
    "gnb = GaussianNB()\n",
    "gnb.fit(X_train_shift, y_train)\n",
    "gnb_labels = gnb.predict(X_test_shift)\n",
    "print(classification_report(y_test, gnb_labels))"
   ]
  },
  {
   "cell_type": "code",
   "execution_count": null,
   "metadata": {
    "collapsed": true
   },
   "outputs": [],
   "source": []
  },
  {
   "cell_type": "code",
   "execution_count": null,
   "metadata": {
    "collapsed": true
   },
   "outputs": [],
   "source": []
  },
  {
   "cell_type": "code",
   "execution_count": null,
   "metadata": {
    "collapsed": true
   },
   "outputs": [],
   "source": []
  },
  {
   "cell_type": "code",
   "execution_count": null,
   "metadata": {
    "collapsed": true
   },
   "outputs": [],
   "source": []
  },
  {
   "cell_type": "code",
   "execution_count": 38,
   "metadata": {},
   "outputs": [
    {
     "name": "stdout",
     "output_type": "stream",
     "text": [
      "(3, 182158, 3, 182158)\n",
      "切割段数：107\n"
     ]
    }
   ],
   "source": [
    "#数据预处理\n",
    "acc,rad = convertData(fileList)\n",
    "'''1.过低通滤波器'''\n",
    "s_acc = smoothing(acc,n=3,wn=0.02)\n",
    "s_rad = smoothing(rad,n=3,wn=0.02)\n",
    "'''2.根据平滑后的数据进行切断，并获取端点'''\n",
    "#pointSignal = getSegFun(s_acc,s_rad,windowlen=100,strides=100,threshold1=3,threshold2=57)\n",
    "pointSignal = getSegFun(s_acc,s_rad,windowlen=80,strides=100,threshold1=5,threshold2=22)\n",
    "start_point,end_point = getEndPoint(pointSignal)\n",
    "#画出切断函数\n",
    "# plt.figure(figsize=(20,15))\n",
    "# plt.plot(range(0,len(pointSignal)),pointSignal)\n",
    "# plt.show()"
   ]
  },
  {
   "cell_type": "code",
   "execution_count": 39,
   "metadata": {},
   "outputs": [
    {
     "name": "stdout",
     "output_type": "stream",
     "text": [
      "单个样本最大长度：4800\n"
     ]
    }
   ],
   "source": [
    "'''3.切分数据'''\n",
    "#输出最大长度\n",
    "max_lenth = 0 \n",
    "for i in range(len(end_point)):\n",
    "    if(max_lenth < end_point[i]- start_point[i]):\n",
    "        max_lenth = end_point[i]- start_point[i]\n",
    "print(\"单个样本最大长度：%d\" % max_lenth)\n",
    "\n"
   ]
  },
  {
   "cell_type": "code",
   "execution_count": 40,
   "metadata": {
    "scrolled": false
   },
   "outputs": [
    {
     "name": "stdout",
     "output_type": "stream",
     "text": [
      "(3, 700)\n",
      "(3, 500)\n",
      "(3, 500)\n",
      "(3, 500)\n",
      "(3, 400)\n",
      "(3, 1500)\n",
      "(3, 1600)\n",
      "(3, 1400)\n",
      "(3, 1800)\n",
      "(3, 400)\n",
      "(3, 300)\n",
      "(3, 400)\n",
      "(3, 300)\n",
      "(3, 300)\n",
      "(3, 800)\n",
      "(3, 300)\n",
      "(3, 400)\n",
      "(3, 500)\n",
      "(3, 900)\n",
      "(3, 700)\n",
      "(3, 300)\n",
      "(3, 600)\n",
      "(3, 800)\n",
      "(3, 700)\n",
      "(3, 800)\n",
      "(3, 400)\n",
      "(3, 500)\n",
      "(3, 500)\n",
      "(3, 300)\n",
      "(3, 1500)\n",
      "(3, 2100)\n",
      "(3, 2200)\n",
      "(3, 2100)\n",
      "(3, 2300)\n",
      "(3, 300)\n",
      "(3, 2200)\n",
      "(3, 300)\n",
      "(3, 1900)\n",
      "(3, 300)\n",
      "(3, 800)\n",
      "(3, 800)\n",
      "(3, 300)\n",
      "(3, 500)\n",
      "(3, 600)\n",
      "(3, 300)\n",
      "(3, 800)\n",
      "(3, 500)\n",
      "(3, 600)\n",
      "(3, 700)\n",
      "(3, 700)\n",
      "(3, 700)\n",
      "(3, 400)\n",
      "(3, 300)\n",
      "(3, 500)\n",
      "(3, 600)\n",
      "(3, 400)\n",
      "(3, 400)\n",
      "(3, 300)\n",
      "(3, 400)\n",
      "(3, 300)\n",
      "(3, 2300)\n",
      "(3, 300)\n",
      "(3, 4800)\n",
      "(3, 2300)\n",
      "(3, 300)\n",
      "(3, 2500)\n",
      "(3, 2800)\n",
      "(3, 2500)\n",
      "(3, 2100)\n",
      "(3, 2300)\n",
      "(3, 300)\n",
      "(3, 2300)\n",
      "(3, 400)\n",
      "(3, 500)\n",
      "(3, 700)\n",
      "(3, 800)\n",
      "(3, 600)\n",
      "(3, 900)\n",
      "(3, 500)\n",
      "(3, 700)\n",
      "(3, 700)\n",
      "(3, 700)\n",
      "(3, 700)\n",
      "(3, 1100)\n",
      "(3, 300)\n",
      "(3, 500)\n",
      "(3, 300)\n",
      "(3, 400)\n",
      "(3, 300)\n",
      "(3, 500)\n",
      "(3, 600)\n",
      "(3, 700)\n",
      "(3, 300)\n",
      "(3, 400)\n",
      "(3, 400)\n",
      "(3, 400)\n",
      "(3, 300)\n",
      "(3, 2400)\n",
      "(3, 2600)\n",
      "(3, 2500)\n",
      "(3, 2300)\n",
      "(3, 2300)\n",
      "(3, 2800)\n",
      "(3, 3000)\n",
      "(3, 2600)\n",
      "(3, 2300)\n",
      "(3, 2300)\n"
     ]
    }
   ],
   "source": [
    "for i in range(len(end_point)):\n",
    "    aaa = s_acc[:,start_point[i]:end_point[i]]\n",
    "    print(aaa.shape)"
   ]
  },
  {
   "cell_type": "code",
   "execution_count": null,
   "metadata": {
    "collapsed": true
   },
   "outputs": [],
   "source": []
  }
 ],
 "metadata": {
  "kernelspec": {
   "display_name": "Python 3",
   "language": "python",
   "name": "python3"
  },
  "language_info": {
   "codemirror_mode": {
    "name": "ipython",
    "version": 3
   },
   "file_extension": ".py",
   "mimetype": "text/x-python",
   "name": "python",
   "nbconvert_exporter": "python",
   "pygments_lexer": "ipython3",
   "version": "3.5.4"
  }
 },
 "nbformat": 4,
 "nbformat_minor": 2
}
