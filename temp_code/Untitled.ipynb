{
 "cells": [
  {
   "cell_type": "code",
   "execution_count": 1,
   "metadata": {},
   "outputs": [],
   "source": [
    "import GetDataUtil\n",
    "import numpy as np\n",
    "from sklearn.metrics import classification_report\n",
    "from sklearn import preprocessing"
   ]
  },
  {
   "cell_type": "code",
   "execution_count": 2,
   "metadata": {},
   "outputs": [
    {
     "name": "stdout",
     "output_type": "stream",
     "text": [
      "正在生成文件，请稍后...\n",
      "加速\n",
      "匀速\n",
      "右转\n",
      "左转\n",
      "碰撞\n",
      "静止\n",
      "生成文件完毕！\n"
     ]
    }
   ],
   "source": [
    "GetDataUtil.saveDataToNP(\"DataSet/trim\")"
   ]
  },
  {
   "cell_type": "code",
   "execution_count": 4,
   "metadata": {},
   "outputs": [
    {
     "name": "stdout",
     "output_type": "stream",
     "text": [
      "正在生成转换文件，请稍后...\n",
      "转换完毕，已生成文件JustifiedData.npy\n"
     ]
    }
   ],
   "source": [
    "data = GetDataUtil.interpolation(np.load(\"DataSet.npy\"))"
   ]
  },
  {
   "cell_type": "code",
   "execution_count": 2,
   "metadata": {},
   "outputs": [],
   "source": [
    "X_train, X_test, y_train, y_test = GetDataUtil.getTrainTestSet()"
   ]
  },
  {
   "cell_type": "code",
   "execution_count": 3,
   "metadata": {},
   "outputs": [],
   "source": [
    "# 数据预处理\n",
    "X_train = preprocessing.scale(X_train.reshape(-1,1800))\n",
    "X_test = preprocessing.scale(X_test.reshape(-1,1800))"
   ]
  },
  {
   "cell_type": "code",
   "execution_count": 6,
   "metadata": {},
   "outputs": [
    {
     "name": "stdout",
     "output_type": "stream",
     "text": [
      "[2 4 1 3 1 2 1 1 2 2 2 1 1 2 1 1 2 1 1 2 2 1 3 3 2 2 4 2 2 2 2 3 2 5 4 2 2\n",
      " 3 2 1 5 2 2 2 2]\n",
      "(45,)\n",
      "(45,)\n",
      "             precision    recall  f1-score   support\n",
      "\n",
      "          1       0.75      1.00      0.86         9\n",
      "          2       1.00      1.00      1.00        23\n",
      "          3       1.00      0.62      0.77         8\n",
      "          4       1.00      1.00      1.00         3\n",
      "          5       1.00      1.00      1.00         2\n",
      "\n",
      "avg / total       0.95      0.93      0.93        45\n",
      "\n"
     ]
    }
   ],
   "source": [
    "from sklearn.naive_bayes import GaussianNB\n",
    "gnb = GaussianNB()\n",
    "gnb.fit(X_train, y_train)\n",
    "y_pred = gnb.predict(X_test)\n",
    "# np.array(y_pred)\n",
    "print(y_pred)\n",
    "print(y_pred.shape)\n",
    "print(y_test.shape)\n",
    "# print( np.array(y_pred) == np.array(y_test) )\n",
    "\n",
    "# print(\"Number of mislabeled points out of a total %d points : %d\"% (X_test.shape[0],(y_test != y_pred).sum()))\n",
    "print(classification_report(y_test, y_pred))"
   ]
  },
  {
   "cell_type": "code",
   "execution_count": 9,
   "metadata": {},
   "outputs": [
    {
     "name": "stdout",
     "output_type": "stream",
     "text": [
      "             precision    recall  f1-score   support\n",
      "\n",
      "          1       0.90      1.00      0.95         9\n",
      "          2       0.00      0.00      0.00        23\n",
      "          3       0.31      1.00      0.47         8\n",
      "          4       1.00      1.00      1.00         3\n",
      "          5       1.00      1.00      1.00         2\n",
      "          6       0.00      0.00      0.00         0\n",
      "\n",
      "avg / total       0.35      0.49      0.38        45\n",
      "\n"
     ]
    },
    {
     "name": "stderr",
     "output_type": "stream",
     "text": [
      "C:\\Anaconda2\\envs\\tensorflow\\lib\\site-packages\\sklearn\\metrics\\classification.py:1135: UndefinedMetricWarning: Precision and F-score are ill-defined and being set to 0.0 in labels with no predicted samples.\n",
      "  'precision', 'predicted', average, warn_for)\n",
      "C:\\Anaconda2\\envs\\tensorflow\\lib\\site-packages\\sklearn\\metrics\\classification.py:1137: UndefinedMetricWarning: Recall and F-score are ill-defined and being set to 0.0 in labels with no true samples.\n",
      "  'recall', 'true', average, warn_for)\n"
     ]
    }
   ],
   "source": [
    "from sklearn.naive_bayes import BernoulliNB\n",
    "bnb = BernoulliNB()\n",
    "bnb.fit(X_train, y_train)\n",
    "y_pred = bnb.predict(X_test)\n",
    "\n",
    "print(classification_report(y_test, y_pred))"
   ]
  },
  {
   "cell_type": "code",
   "execution_count": 3,
   "metadata": {},
   "outputs": [
    {
     "name": "stdout",
     "output_type": "stream",
     "text": [
      "             precision    recall  f1-score   support\n",
      "\n",
      "          1       0.00      0.00      0.00         9\n",
      "          2       0.51      1.00      0.68        23\n",
      "          3       0.00      0.00      0.00         8\n",
      "          4       0.00      0.00      0.00         3\n",
      "          5       0.00      0.00      0.00         2\n",
      "\n",
      "avg / total       0.26      0.51      0.35        45\n",
      "\n"
     ]
    },
    {
     "name": "stderr",
     "output_type": "stream",
     "text": [
      "C:\\Anaconda2\\envs\\tensorflow\\lib\\site-packages\\sklearn\\metrics\\classification.py:1135: UndefinedMetricWarning: Precision and F-score are ill-defined and being set to 0.0 in labels with no predicted samples.\n",
      "  'precision', 'predicted', average, warn_for)\n"
     ]
    }
   ],
   "source": [
    "from sklearn import svm\n",
    "SVM = svm.SVC()\n",
    "SVM.fit(X_train, y_train)\n",
    "SVM_labels = SVM.predict(X_test.reshape(-1,1800))\n",
    "print(classification_report(y_test, SVM_labels))\n",
    "# SVC(C=1.0, cache_size=200, class_weight=None, coef0=0.0,\n",
    "#     decision_function_shape='ovr', degree=3, gamma='auto', kernel='rbf',\n",
    "#     max_iter=-1, probability=False, random_state=None, shrinking=True,\n",
    "#     tol=0.001, verbose=False)"
   ]
  },
  {
   "cell_type": "code",
   "execution_count": 5,
   "metadata": {},
   "outputs": [
    {
     "name": "stdout",
     "output_type": "stream",
     "text": [
      "(399, 1800)\n"
     ]
    }
   ],
   "source": [
    "print(X_train.shape)"
   ]
  },
  {
   "cell_type": "code",
   "execution_count": null,
   "metadata": {
    "collapsed": true
   },
   "outputs": [],
   "source": []
  },
  {
   "cell_type": "code",
   "execution_count": 1,
   "metadata": {
    "collapsed": true
   },
   "outputs": [],
   "source": [
    "import numpy as np\n",
    "from scipy import interpolate \n",
    "import matplotlib.pyplot as plt\n",
    "import sklearn"
   ]
  },
  {
   "cell_type": "code",
   "execution_count": 32,
   "metadata": {
    "collapsed": true
   },
   "outputs": [],
   "source": [
    "originData = np.load(\"DataSet.npy\")"
   ]
  },
  {
   "cell_type": "code",
   "execution_count": 33,
   "metadata": {},
   "outputs": [
    {
     "data": {
      "text/plain": [
       "(444,)"
      ]
     },
     "execution_count": 33,
     "metadata": {},
     "output_type": "execute_result"
    }
   ],
   "source": [
    "originData.shape"
   ]
  },
  {
   "cell_type": "code",
   "execution_count": 5,
   "metadata": {
    "scrolled": true
   },
   "outputs": [
    {
     "data": {
      "text/plain": [
       "[<matplotlib.lines.Line2D at 0xaf73390>]"
      ]
     },
     "execution_count": 5,
     "metadata": {},
     "output_type": "execute_result"
    }
   ],
   "source": [
    "plt.figure()\n",
    "plt.plot(range(len(originData[0][\"Acc\"][0])),originData[0][\"Acc\"][0])"
   ]
  },
  {
   "cell_type": "code",
   "execution_count": 6,
   "metadata": {},
   "outputs": [
    {
     "data": {
      "image/png": "[encoded data removed]",
      "text/plain": [
       "<matplotlib.figure.Figure at 0xae514e0>"
      ]
     },
     "metadata": {},
     "output_type": "display_data"
    }
   ],
   "source": [
    "plt.show()"
   ]
  },
  {
   "cell_type": "code",
   "execution_count": 34,
   "metadata": {},
   "outputs": [],
   "source": [
    "'''\n",
    "sample 为插值后的采样点数\n",
    "kind 为插值方式\n",
    "    #\"nearest\",\"zero\"为阶梯插值  \n",
    "    #slinear 线性插值  \n",
    "    #\"quadratic\",\"cubic\" 为2阶、3阶B样条曲线插值\n",
    "savaPath 为数据保存路径\n",
    "'''\n",
    "def interpolation(originData,sample = 300,kind =\"cubic\",savePath=\"JustifiedData.npy\"):\n",
    "    JutifiedDataSet = []\n",
    "    for data in originData:\n",
    "        F_Acc = interpolate.interp1d(range(0,len(data[\"Acc\"][0])),data[\"Acc\"],axis = 1,kind = kind)\n",
    "        F_Gyr = interpolate.interp1d(range(0,len(data[\"Gyr\"][0])),data[\"Gyr\"],axis = 1,kind = kind)\n",
    "        X_new =np.linspace(0,len(data[\"Acc\"][0])-1,sample)\n",
    "        Acc_New=F_Acc(X_new)\n",
    "        Gyr_New=F_Gyr(X_new)\n",
    "        JutifiedDataSet.append({\"Acc\":Acc_New,\"Gyr\":Gyr_New,\"Label\":data[\"Label\"]})\n",
    "    np_JutifiedDataSet = np.array(JutifiedDataSet)\n",
    "    np.save(savePath,np_JutifiedDataSet)\n",
    "    return np_JutifiedDataSet"
   ]
  },
  {
   "cell_type": "code",
   "execution_count": 35,
   "metadata": {
    "scrolled": true
   },
   "outputs": [
    {
     "name": "stdout",
     "output_type": "stream",
     "text": [
      "(444,)\n"
     ]
    }
   ],
   "source": [
    "JutifiedDataSet = interpolation(originData)\n",
    "print(JutifiedDataSet.shape)"
   ]
  },
  {
   "cell_type": "code",
   "execution_count": 87,
   "metadata": {},
   "outputs": [
    {
     "name": "stdout",
     "output_type": "stream",
     "text": [
      "(399, 6, 300)\n"
     ]
    }
   ],
   "source": [
    "# train_test_split(train_data,train_target,test_size=0.4, random_state=0)\n",
    "'''\n",
    "载入文件插值、对齐好的数据文件，并返回训练集、测试集\n",
    "参数：\n",
    "    dataPath 数据文件地址\n",
    "    test_size 测试集占比\n",
    "输出：\n",
    "    X_train,X_test, y_train, y_test\n",
    "'''\n",
    "from sklearn.cross_validation import train_test_split\n",
    "def getTrainTestSet(dataPath = \"JustifiedData.npy\",test_size = 0.1):\n",
    "    X = []\n",
    "    Y = []\n",
    "    dataSet = np.load(dataPath)\n",
    "    for data in dataSet:\n",
    "        S = data[\"Acc\"]\n",
    "        S = np.stack((S,data[\"Gyr\"]),axis = 0)\n",
    "        S = S.reshape((6,300))\n",
    "        X.append(S)\n",
    "        Y.append(data[\"Label\"])\n",
    "#     print(np.array(X).shape)\n",
    "#     print(np.array(Y).shape)\n",
    "    X = np.array(X)\n",
    "    Y = np.array(Y)\n",
    "#     X_train,X_test, y_train, y_test\n",
    "    return train_test_split(X,Y,test_size = test_size,random_state = 0)\n",
    "\n",
    "    \n",
    "    \n",
    "X_train,X_test,y_train,y_test = getTrainTestSet()\n",
    "print(X_train.shape)\n",
    "    \n",
    "    "
   ]
  },
  {
   "cell_type": "code",
   "execution_count": 60,
   "metadata": {},
   "outputs": [
    {
     "ename": "SyntaxError",
     "evalue": "invalid syntax (<ipython-input-60-3e26879a45ff>, line 2)",
     "output_type": "error",
     "traceback": [
      "\u001b[1;36m  File \u001b[1;32m\"<ipython-input-60-3e26879a45ff>\"\u001b[1;36m, line \u001b[1;32m2\u001b[0m\n\u001b[1;33m    list = [5][]\u001b[0m\n\u001b[1;37m               ^\u001b[0m\n\u001b[1;31mSyntaxError\u001b[0m\u001b[1;31m:\u001b[0m invalid syntax\n"
     ]
    }
   ],
   "source": [
    "X = np.array([1,2,3,4,3])\n",
    "list = [5][]\n",
    "list[0].append(X)\n",
    "# X[0] = np.stack(X[0],np.random.rand((3,6)),axis = 1)\n",
    "# X[0] = 0\n",
    "# X.shape"
   ]
  },
  {
   "cell_type": "code",
   "execution_count": null,
   "metadata": {
    "collapsed": true
   },
   "outputs": [],
   "source": []
  },
  {
   "cell_type": "code",
   "execution_count": null,
   "metadata": {
    "collapsed": true
   },
   "outputs": [],
   "source": []
  },
  {
   "cell_type": "code",
   "execution_count": null,
   "metadata": {
    "collapsed": true
   },
   "outputs": [],
   "source": []
  },
  {
   "cell_type": "code",
   "execution_count": 31,
   "metadata": {},
   "outputs": [
    {
     "data": {
      "image/png": "[encoded data removed]",
      "text/plain": [
       "<matplotlib.figure.Figure at 0xba051d0>"
      ]
     },
     "metadata": {},
     "output_type": "display_data"
    },
    {
     "name": "stdout",
     "output_type": "stream",
     "text": [
      "3\n"
     ]
    }
   ],
   "source": [
    "def  interpolation(originData,sample = 300,kind =\"quadratic\",savePath=\"JustifiedData.npy\")：\n",
    "sample = 300  #3s\n",
    "plt.figure(\"qc3\",figsize=(20,10))\n",
    "for kind in [\"quadratic\",\"cubic\"]:#插值方式  \n",
    "    #\"nearest\",\"zero\"为阶梯插值  \n",
    "    #slinear 线性插值  \n",
    "    #\"quadratic\",\"cubic\" 为2阶、3阶B样条曲线插值  \n",
    "    f = interpolate.interp1d(range(len(originData[401][\"Acc\"][0])),originData[401][\"Acc\"][0],kind = kind)\n",
    "    # ‘slinear’, ‘quadratic’ and ‘cubic’ refer to a spline interpolation of first, second or third order)  \n",
    "    x_new =np.linspace(0,len(originData[401][\"Acc\"][0])-1,sample)\n",
    "    ynew=f(x_new)\n",
    "    \n",
    "#     plt.plot(x_new,ynew,label=str(kind))\n",
    "    \n",
    "plt.plot(range(len(originData[401][\"Acc\"][0])),originData[401][\"Acc\"][0],label = \"OriginData\")\n",
    "plt.legend(loc=\"lower right\")  \n",
    "plt.show()  \n",
    "print(originData[401][\"Label\"])"
   ]
  },
  {
   "cell_type": "code",
   "execution_count": 15,
   "metadata": {},
   "outputs": [
    {
     "name": "stdout",
     "output_type": "stream",
     "text": [
      "[   0.            1.39799331    2.79598662    4.19397993    5.59197324\n",
      "    6.98996656    8.38795987    9.78595318   11.18394649   12.5819398\n",
      "   13.97993311   15.37792642   16.77591973   18.17391304   19.57190635\n",
      "   20.96989967   22.36789298   23.76588629   25.1638796    26.56187291\n",
      "   27.95986622   29.35785953   30.75585284   32.15384615   33.55183946\n",
      "   34.94983278   36.34782609   37.7458194    39.14381271   40.54180602\n",
      "   41.93979933   43.33779264   44.73578595   46.13377926   47.53177258\n",
      "   48.92976589   50.3277592    51.72575251   53.12374582   54.52173913\n",
      "   55.91973244   57.31772575   58.71571906   60.11371237   61.51170569\n",
      "   62.909699     64.30769231   65.70568562   67.10367893   68.50167224\n",
      "   69.89966555   71.29765886   72.69565217   74.09364548   75.4916388\n",
      "   76.88963211   78.28762542   79.68561873   81.08361204   82.48160535\n",
      "   83.87959866   85.27759197   86.67558528   88.0735786    89.47157191\n",
      "   90.86956522   92.26755853   93.66555184   95.06354515   96.46153846\n",
      "   97.85953177   99.25752508  100.65551839  102.05351171  103.45150502\n",
      "  104.84949833  106.24749164  107.64548495  109.04347826  110.44147157\n",
      "  111.83946488  113.23745819  114.63545151  116.03344482  117.43143813\n",
      "  118.82943144  120.22742475  121.62541806  123.02341137  124.42140468\n",
      "  125.81939799  127.2173913   128.61538462  130.01337793  131.41137124\n",
      "  132.80936455  134.20735786  135.60535117  137.00334448  138.40133779\n",
      "  139.7993311   141.19732441  142.59531773  143.99331104  145.39130435\n",
      "  146.78929766  148.18729097  149.58528428  150.98327759  152.3812709\n",
      "  153.77926421  155.17725753  156.57525084  157.97324415  159.37123746\n",
      "  160.76923077  162.16722408  163.56521739  164.9632107   166.36120401\n",
      "  167.75919732  169.15719064  170.55518395  171.95317726  173.35117057\n",
      "  174.74916388  176.14715719  177.5451505   178.94314381  180.34113712\n",
      "  181.73913043  183.13712375  184.53511706  185.93311037  187.33110368\n",
      "  188.72909699  190.1270903   191.52508361  192.92307692  194.32107023\n",
      "  195.71906355  197.11705686  198.51505017  199.91304348  201.31103679\n",
      "  202.7090301   204.10702341  205.50501672  206.90301003  208.30100334\n",
      "  209.69899666  211.09698997  212.49498328  213.89297659  215.2909699\n",
      "  216.68896321  218.08695652  219.48494983  220.88294314  222.28093645\n",
      "  223.67892977  225.07692308  226.47491639  227.8729097   229.27090301\n",
      "  230.66889632  232.06688963  233.46488294  234.86287625  236.26086957\n",
      "  237.65886288  239.05685619  240.4548495   241.85284281  243.25083612\n",
      "  244.64882943  246.04682274  247.44481605  248.84280936  250.24080268\n",
      "  251.63879599  253.0367893   254.43478261  255.83277592  257.23076923\n",
      "  258.62876254  260.02675585  261.42474916  262.82274247  264.22073579\n",
      "  265.6187291   267.01672241  268.41471572  269.81270903  271.21070234\n",
      "  272.60869565  274.00668896  275.40468227  276.80267559  278.2006689\n",
      "  279.59866221  280.99665552  282.39464883  283.79264214  285.19063545\n",
      "  286.58862876  287.98662207  289.38461538  290.7826087   292.18060201\n",
      "  293.57859532  294.97658863  296.37458194  297.77257525  299.17056856\n",
      "  300.56856187  301.96655518  303.36454849  304.76254181  306.16053512\n",
      "  307.55852843  308.95652174  310.35451505  311.75250836  313.15050167\n",
      "  314.54849498  315.94648829  317.34448161  318.74247492  320.14046823\n",
      "  321.53846154  322.93645485  324.33444816  325.73244147  327.13043478\n",
      "  328.52842809  329.9264214   331.32441472  332.72240803  334.12040134\n",
      "  335.51839465  336.91638796  338.31438127  339.71237458  341.11036789\n",
      "  342.5083612   343.90635452  345.30434783  346.70234114  348.10033445\n",
      "  349.49832776  350.89632107  352.29431438  353.69230769  355.090301\n",
      "  356.48829431  357.88628763  359.28428094  360.68227425  362.08026756\n",
      "  363.47826087  364.87625418  366.27424749  367.6722408   369.07023411\n",
      "  370.46822742  371.86622074  373.26421405  374.66220736  376.06020067\n",
      "  377.45819398  378.85618729  380.2541806   381.65217391  383.05016722\n",
      "  384.44816054  385.84615385  387.24414716  388.64214047  390.04013378\n",
      "  391.43812709  392.8361204   394.23411371  395.63210702  397.03010033\n",
      "  398.42809365  399.82608696  401.22408027  402.62207358  404.02006689\n",
      "  405.4180602   406.81605351  408.21404682  409.61204013  411.01003344\n",
      "  412.40802676  413.80602007  415.20401338  416.60200669  418.        ]\n"
     ]
    }
   ],
   "source": [
    "xnew =np.linspace(0,len(originData[0][\"Acc\"][0]),300)#3s\n",
    "print(xnew)"
   ]
  },
  {
   "cell_type": "code",
   "execution_count": null,
   "metadata": {
    "collapsed": true
   },
   "outputs": [],
   "source": []
  }
 ],
 "metadata": {
  "kernelspec": {
   "display_name": "Python 3",
   "language": "python",
   "name": "python3"
  },
  "language_info": {
   "codemirror_mode": {
    "name": "ipython",
    "version": 3
   },
   "file_extension": ".py",
   "mimetype": "text/x-python",
   "name": "python",
   "nbconvert_exporter": "python",
   "pygments_lexer": "ipython3",
   "version": "3.5.4"
  }
 },
 "nbformat": 4,
 "nbformat_minor": 2
}
