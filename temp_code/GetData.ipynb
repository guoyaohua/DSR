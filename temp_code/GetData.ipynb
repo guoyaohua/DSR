{
 "cells": [
  {
   "cell_type": "code",
   "execution_count": 24,
   "metadata": {},
   "outputs": [],
   "source": [
    "# coding = utf-8 \n",
    "import numpy as np\n",
    "import os\n",
    "import matplotlib.pyplot as plt\n",
    "\n",
    "\n",
    "'''加载文件'''\n",
    "def readFile(filePath):\n",
    "    file = open(filePath,'rb')\n",
    "    data = file.read()\n",
    "    file.close()\n",
    "    return data\n",
    "\n",
    "'''得到所有文件名,所在目录名'''\n",
    "def getFileList(rootPath):\n",
    "    fileList = []\n",
    "    for root, dirs, files in os.walk(rootPath,topdown = False):#优先遍历子目录\n",
    "        if len(files) > 0:\n",
    "            fileList.append((root,files));\n",
    "    return fileList\n",
    "\n",
    "'''把得到的加速度,角速度,标签，写入到文件中'''\n",
    "def write2file(X,Y,X_path,Y_path):\n",
    "    np.savetxt(X_path,X,delimiter=',')\n",
    "    np.savetxt(Y_path,Y,delimiter=',')\n",
    "    \n",
    "'''从文件中获取加速度和角速度'''\n",
    "def getAandG(data):\n",
    "    data_len = len(data)\n",
    "    a = [[] for i in range(3)]  # 加速度\n",
    "    w = [[] for i in range(3)]  # 角速度\n",
    "    index = 0\n",
    "    while index < data_len:  \n",
    "        if data[index] == 0x55:  # 包头\n",
    "            if index + 7 < data_len:\n",
    "                temp_a = data[index+3]\n",
    "                temp_b = data[index+5]\n",
    "                temp_c = data[index+7]\n",
    "                if data[index+3] > 127:  # 说明是负数\n",
    "                    temp_a = temp_a - 256\n",
    "                if data[index+5] >127:\n",
    "                    temp_b = temp_b - 256\n",
    "                if data[index+7] >127:\n",
    "                    temp_c = temp_c - 256\n",
    "                if data[index+1] == 81: # 加速度输出\n",
    "                    a[0].append(temp_a*256+data[index+2]) # x轴加速度\n",
    "                    a[1].append(temp_b*256+data[index+4]) # y轴加速度\n",
    "                    a[2].append(temp_c*256+data[index+6]) # z轴加速度\n",
    "                    index += 11\n",
    "                    continue\n",
    "                elif data[index+1] == 82: # 角速度输出\n",
    "                    w[0].append(temp_a*256+data[index+2]) # x轴角速度\n",
    "                    w[1].append(temp_b*256+data[index+4]) # y轴角速度\n",
    "                    w[2].append(temp_c*256+data[index+6]) # z轴角速度\n",
    "                    index += 11\n",
    "                    continue\n",
    "                elif data[index+1] == 83: # 角度输出\n",
    "                    index += 11\n",
    "                else:  # 或者数据有丢失\n",
    "                    index += 1\n",
    "            else:  # 没有完整的数据了\n",
    "                break\n",
    "        else:  # 数据有丢失\n",
    "            index += 1\n",
    "    a = np.array(a)\n",
    "    w = np.array(w)\n",
    "    a = a / 32768 * 16    #单位为g\n",
    "    w = w / 32768 * 2000  # 单位为°/s\n",
    "    #数据对齐\n",
    "    len_diff = len(a[0])-len(w[0])\n",
    "    if len_diff !=0:\n",
    "        if len_diff>0:#加速度数据长\n",
    "            w = np.hstack((w,np.zeros((3,len_diff))))\n",
    "        elif len_diff<0:#角速度数据长\n",
    "            a = np.hstack((a,np.zeros((3,-len_diff))))   \n",
    "    if len(a[0])!=len(w[0]):\n",
    "        print(\"数据未对齐\")#判断是否对齐\n",
    "    \n",
    "    #print(a.shape+w.shape)\n",
    "    return a,w\n",
    "\n",
    "'''\n",
    "读取指定目录原始数据，将其整合成为numpy，\n",
    "'''\n",
    "def saveDataToNP(rootPath ,savePath = \"DataSet.npy\"):\n",
    "    DataSet = []\n",
    "    Labels = {\"加速\":1,\"静止\":2,\"碰撞\":3,\"匀速\":4,\"左转\":5,\"右转\":6}\n",
    "    fileList = getFileList(rootPath)\n",
    "    print(\"正在生成文件，请稍后...\")  \n",
    "    for root,files in fileList:\n",
    "        print(root.split('\\\\')[-1])\n",
    "        label = Labels[root.split('\\\\')[-1]]\n",
    "        for filePath in files:\n",
    "            filePath = root+ '/' + filePath\n",
    "            fileData = readFile(filePath)\n",
    "            if(len(fileData) == 0):\n",
    "                continue\n",
    "            A,G = getAandG(fileData)\n",
    "            DataSet.append({\"Acc\":A,\"Gyr\":G,\"Label\":label})\n",
    "    np.save(savePath,np.array(DataSet))\n",
    "    print(\"生成文件完毕！\")  \n",
    "'''\n",
    "生成图片\n",
    "'''\n",
    "def generatePic(DataSet,picSavePath = \"Pic\"):\n",
    "    Labels = [\"加速\",\"静止\",\"碰撞\",\"匀速\",\"左转\",\"右转\"]\n",
    "    axisLabel = [\"X\",\"Y\",\"Z\"]\n",
    "    colorLabel = [\"r\",'g',\"b\"]\n",
    "    curLabel = -1\n",
    "    count = 1\n",
    "    plt.rcParams['font.sans-serif']=['SimHei'] #用来正常显示中文标签\n",
    "    plt.rcParams['axes.unicode_minus']=False #用来正常显示负号\n",
    "    for data in DataSet:\n",
    "        if curLabel != Labels[data[\"Label\"]-1]:\n",
    "            count = 1\n",
    "            curLabel = Labels[data[\"Label\"]-1]#得到中文标签\n",
    "        else:\n",
    "            count += 1\n",
    "        plt.figure(curLabel+\"%d\"%(count),figsize=(18,12))\n",
    "        plt.suptitle(curLabel,fontsize=40,x=0.5,y=0.97)\n",
    "        for i in range(3):\n",
    "            plt.subplot(3,2,i*2+1)\n",
    "            plt.title(\"加速度-\"+axisLabel[i])\n",
    "            plt.plot(range(len(data[\"Acc\"][i])),data[\"Acc\"][i],color=colorLabel[i])\n",
    "            plt.subplot(3,2,i*2+2)\n",
    "            plt.title(\"角速度-\"+axisLabel[i])\n",
    "            plt.plot(range(len(data[\"Gyr\"][i])),data[\"Gyr\"][i],color=colorLabel[i])\n",
    "        plt.gcf().savefig(picSavePath+\"\\\\\"+curLabel+\"_%d.png\"%(count),dpi = 200,bbox_inches='tight')\n",
    "    print(\"生成图片完毕！\")    \n",
    "\n",
    "'''未完成''' \n",
    "def LoadDataFromFile(filePath = \"DataSet.npy\"):\n",
    "    originData = np.load(filePath)\n",
    "    "
   ]
  },
  {
   "cell_type": "code",
   "execution_count": 25,
   "metadata": {},
   "outputs": [
    {
     "name": "stdout",
     "output_type": "stream",
     "text": [
      "正在生成文件，请稍后...\n",
      "加速\n",
      "匀速\n",
      "右转\n",
      "左转\n",
      "碰撞\n",
      "静止\n",
      "生成文件完毕！\n"
     ]
    }
   ],
   "source": [
    "saveDataToNP(\"DataSet/trim\")"
   ]
  },
  {
   "cell_type": "code",
   "execution_count": 3,
   "metadata": {
    "collapsed": true
   },
   "outputs": [],
   "source": [
    "load = np.load(\"DataSet.npy\")"
   ]
  },
  {
   "cell_type": "code",
   "execution_count": 29,
   "metadata": {},
   "outputs": [
    {
     "name": "stderr",
     "output_type": "stream",
     "text": [
      "C:\\Anaconda2\\envs\\tensorflow\\lib\\site-packages\\matplotlib\\pyplot.py:524: RuntimeWarning: More than 20 figures have been opened. Figures created through the pyplot interface (`matplotlib.pyplot.figure`) are retained until explicitly closed and may consume too much memory. (To control this warning, see the rcParam `figure.max_open_warning`).\n",
      "  max_open_warning, RuntimeWarning)\n"
     ]
    },
    {
     "name": "stdout",
     "output_type": "stream",
     "text": [
      "生成图片完毕！\n"
     ]
    }
   ],
   "source": [
    "generatePic(load)"
   ]
  },
  {
   "cell_type": "code",
   "execution_count": null,
   "metadata": {
    "collapsed": true
   },
   "outputs": [],
   "source": []
  }
 ],
 "metadata": {
  "kernelspec": {
   "display_name": "Python 3",
   "language": "python",
   "name": "python3"
  },
  "language_info": {
   "codemirror_mode": {
    "name": "ipython",
    "version": 3
   },
   "file_extension": ".py",
   "mimetype": "text/x-python",
   "name": "python",
   "nbconvert_exporter": "python",
   "pygments_lexer": "ipython3",
   "version": "3.5.4"
  }
 },
 "nbformat": 4,
 "nbformat_minor": 2
}
